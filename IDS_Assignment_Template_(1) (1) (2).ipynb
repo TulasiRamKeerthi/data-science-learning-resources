{
 "cells": [
  {
   "cell_type": "code",
   "execution_count": null,
   "id": "lmRo6w3Md1fO",
   "metadata": {
    "colab": {
     "base_uri": "https://localhost:8080/"
    },
    "id": "lmRo6w3Md1fO",
    "outputId": "8b93e2e9-cf6c-4566-f811-3793d505f3c4"
   },
   "outputs": [],
   "source": []
  },
  {
   "cell_type": "markdown",
   "id": "9bda93ba",
   "metadata": {
    "id": "9bda93ba"
   },
   "source": [
    "# <center>        **Introduction to Data Science (S1-22_DSECLZG532)-ASSIGNMENT**</center>\n",
    "\n",
    "## Group No\n",
    "\n",
    "## Group Member Names:\n",
    "1. \n",
    "2.\n",
    "3.\n",
    "4."
   ]
  },
  {
   "cell_type": "markdown",
   "id": "f5d80c60",
   "metadata": {
    "id": "f5d80c60"
   },
   "source": [
    "# 1. Business Understanding\n",
    " \n",
    "Students are expected to identify a data analytics task of your choice. You have to detail the Business Understanding part of your problem under this heading which basically addresses the following questions.\n",
    " \n",
    "   1. What is the business problem that you are trying to solve?\n",
    "   2. What data do you need to answer the above problem?\n",
    "   3. What are the different sources of data?    \n",
    "   4. What kind of analytics task are you performing?\n",
    "\n",
    "Score: 1 Mark in total (0.25 mark each)"
   ]
  },
  {
   "cell_type": "code",
   "execution_count": null,
   "id": "cc563268",
   "metadata": {},
   "outputs": [],
   "source": [
    "1.Credit Card Fraud Detection\n",
    "2.transaction time in the dataset and the transaction details dataset\n",
    "3.evaluation based on the parameters and description based analysis  "
   ]
  },
  {
   "cell_type": "code",
   "execution_count": 61,
   "id": "QwHaMZPOZWth",
   "metadata": {
    "id": "QwHaMZPOZWth"
   },
   "outputs": [],
   "source": [
    "import pandas as pd\n",
    "import numpy as np\n",
    "#import keras\n",
    "from matplotlib import pyplot as plt\n",
    "import seaborn as sns\n",
    "from sklearn.feature_selection import chi2\n",
    "from sklearn.feature_selection import SelectKBest\n",
    "np.random.seed(2)"
   ]
  },
  {
   "cell_type": "raw",
   "id": "3298e121",
   "metadata": {
    "id": "3298e121"
   },
   "source": [
    "--------------Type the answers below this line-------------- "
   ]
  },
  {
   "cell_type": "markdown",
   "id": "3cc8e0cb",
   "metadata": {
    "id": "3cc8e0cb"
   },
   "source": [
    "# 2. Data Acquisition\n",
    " \n",
    "For the problem identified , find an appropriate data set (Your data set must \n",
    "be unique) from any public data source.\n",
    "\n",
    "---\n",
    "\n",
    "\n",
    "\n",
    "## 2.1 Download the data directly\n",
    "\n"
   ]
  },
  {
   "cell_type": "code",
   "execution_count": 3,
   "id": "4b51d895",
   "metadata": {
    "id": "4b51d895"
   },
   "outputs": [],
   "source": [
    "##---------Type the code below this line------------------##  \n"
   ]
  },
  {
   "cell_type": "code",
   "execution_count": null,
   "id": "p_uDgzBHdvEn",
   "metadata": {
    "id": "p_uDgzBHdvEn"
   },
   "outputs": [],
   "source": []
  },
  {
   "cell_type": "code",
   "execution_count": 8,
   "id": "5Xjxd_5uel1y",
   "metadata": {
    "colab": {
     "base_uri": "https://localhost:8080/"
    },
    "id": "5Xjxd_5uel1y",
    "outputId": "23fc4b04-fd98-49e2-a47f-e55201c67989"
   },
   "outputs": [
    {
     "data": {
      "text/plain": [
       "(283726, 31)"
      ]
     },
     "execution_count": 8,
     "metadata": {},
     "output_type": "execute_result"
    }
   ],
   "source": [
    "data.shape"
   ]
  },
  {
   "cell_type": "code",
   "execution_count": 5,
   "id": "M4Rss4m5eYQN",
   "metadata": {
    "id": "M4Rss4m5eYQN"
   },
   "outputs": [],
   "source": [
    "data.drop_duplicates(inplace=True)"
   ]
  },
  {
   "cell_type": "code",
   "execution_count": 6,
   "id": "ZTHupm92epig",
   "metadata": {
    "colab": {
     "base_uri": "https://localhost:8080/"
    },
    "id": "ZTHupm92epig",
    "outputId": "6e6e1396-921d-46d8-87e2-b48c6fabf994"
   },
   "outputs": [
    {
     "data": {
      "text/plain": [
       "(283726, 31)"
      ]
     },
     "execution_count": 6,
     "metadata": {},
     "output_type": "execute_result"
    }
   ],
   "source": [
    "data.shape"
   ]
  },
  {
   "cell_type": "code",
   "execution_count": 7,
   "id": "fr9xfoK4fM8z",
   "metadata": {
    "colab": {
     "base_uri": "https://localhost:8080/"
    },
    "id": "fr9xfoK4fM8z",
    "outputId": "f0e7d907-1afd-4ece-cbcf-51bbcf7bdffc"
   },
   "outputs": [
    {
     "data": {
      "text/plain": [
       "Index(['Time', 'V1', 'V2', 'V3', 'V4', 'V5', 'V6', 'V7', 'V8', 'V9', 'V10',\n",
       "       'V11', 'V12', 'V13', 'V14', 'V15', 'V16', 'V17', 'V18', 'V19', 'V20',\n",
       "       'V21', 'V22', 'V23', 'V24', 'V25', 'V26', 'V27', 'V28', 'Amount',\n",
       "       'Class'],\n",
       "      dtype='object')"
      ]
     },
     "execution_count": 7,
     "metadata": {},
     "output_type": "execute_result"
    }
   ],
   "source": [
    "data.columns"
   ]
  },
  {
   "cell_type": "markdown",
   "id": "49530d0c",
   "metadata": {
    "id": "49530d0c"
   },
   "source": [
    "## 2.2 Code for converting the above downloaded data into a dataframe"
   ]
  },
  {
   "cell_type": "code",
   "execution_count": 9,
   "id": "c1f4c171",
   "metadata": {
    "id": "c1f4c171"
   },
   "outputs": [],
   "source": [
    "##---------Type the code below this line------------------##\n",
    "data=pd.read_csv(r'C:\\Users\\NHI348\\Downloads\\creditcard.csv')"
   ]
  },
  {
   "cell_type": "markdown",
   "id": "7b1fea4d",
   "metadata": {
    "id": "7b1fea4d"
   },
   "source": [
    "## 2.3 Confirm the data has been downloaded correctly by displaying the first 5 and last 5 records."
   ]
  },
  {
   "cell_type": "code",
   "execution_count": 10,
   "id": "624e6c58",
   "metadata": {
    "colab": {
     "base_uri": "https://localhost:8080/",
     "height": 299
    },
    "id": "624e6c58",
    "outputId": "d083a46d-0a88-4b4f-a204-e1abbe21df07"
   },
   "outputs": [
    {
     "data": {
      "text/html": [
       "<div>\n",
       "<style scoped>\n",
       "    .dataframe tbody tr th:only-of-type {\n",
       "        vertical-align: middle;\n",
       "    }\n",
       "\n",
       "    .dataframe tbody tr th {\n",
       "        vertical-align: top;\n",
       "    }\n",
       "\n",
       "    .dataframe thead th {\n",
       "        text-align: right;\n",
       "    }\n",
       "</style>\n",
       "<table border=\"1\" class=\"dataframe\">\n",
       "  <thead>\n",
       "    <tr style=\"text-align: right;\">\n",
       "      <th></th>\n",
       "      <th>Time</th>\n",
       "      <th>V1</th>\n",
       "      <th>V2</th>\n",
       "      <th>V3</th>\n",
       "      <th>V4</th>\n",
       "      <th>V5</th>\n",
       "      <th>V6</th>\n",
       "      <th>V7</th>\n",
       "      <th>V8</th>\n",
       "      <th>V9</th>\n",
       "      <th>...</th>\n",
       "      <th>V21</th>\n",
       "      <th>V22</th>\n",
       "      <th>V23</th>\n",
       "      <th>V24</th>\n",
       "      <th>V25</th>\n",
       "      <th>V26</th>\n",
       "      <th>V27</th>\n",
       "      <th>V28</th>\n",
       "      <th>Amount</th>\n",
       "      <th>Class</th>\n",
       "    </tr>\n",
       "  </thead>\n",
       "  <tbody>\n",
       "    <tr>\n",
       "      <th>0</th>\n",
       "      <td>0.0</td>\n",
       "      <td>-1.359807</td>\n",
       "      <td>-0.072781</td>\n",
       "      <td>2.536347</td>\n",
       "      <td>1.378155</td>\n",
       "      <td>-0.338321</td>\n",
       "      <td>0.462388</td>\n",
       "      <td>0.239599</td>\n",
       "      <td>0.098698</td>\n",
       "      <td>0.363787</td>\n",
       "      <td>...</td>\n",
       "      <td>-0.018307</td>\n",
       "      <td>0.277838</td>\n",
       "      <td>-0.110474</td>\n",
       "      <td>0.066928</td>\n",
       "      <td>0.128539</td>\n",
       "      <td>-0.189115</td>\n",
       "      <td>0.133558</td>\n",
       "      <td>-0.021053</td>\n",
       "      <td>149.62</td>\n",
       "      <td>0</td>\n",
       "    </tr>\n",
       "    <tr>\n",
       "      <th>1</th>\n",
       "      <td>0.0</td>\n",
       "      <td>1.191857</td>\n",
       "      <td>0.266151</td>\n",
       "      <td>0.166480</td>\n",
       "      <td>0.448154</td>\n",
       "      <td>0.060018</td>\n",
       "      <td>-0.082361</td>\n",
       "      <td>-0.078803</td>\n",
       "      <td>0.085102</td>\n",
       "      <td>-0.255425</td>\n",
       "      <td>...</td>\n",
       "      <td>-0.225775</td>\n",
       "      <td>-0.638672</td>\n",
       "      <td>0.101288</td>\n",
       "      <td>-0.339846</td>\n",
       "      <td>0.167170</td>\n",
       "      <td>0.125895</td>\n",
       "      <td>-0.008983</td>\n",
       "      <td>0.014724</td>\n",
       "      <td>2.69</td>\n",
       "      <td>0</td>\n",
       "    </tr>\n",
       "    <tr>\n",
       "      <th>2</th>\n",
       "      <td>1.0</td>\n",
       "      <td>-1.358354</td>\n",
       "      <td>-1.340163</td>\n",
       "      <td>1.773209</td>\n",
       "      <td>0.379780</td>\n",
       "      <td>-0.503198</td>\n",
       "      <td>1.800499</td>\n",
       "      <td>0.791461</td>\n",
       "      <td>0.247676</td>\n",
       "      <td>-1.514654</td>\n",
       "      <td>...</td>\n",
       "      <td>0.247998</td>\n",
       "      <td>0.771679</td>\n",
       "      <td>0.909412</td>\n",
       "      <td>-0.689281</td>\n",
       "      <td>-0.327642</td>\n",
       "      <td>-0.139097</td>\n",
       "      <td>-0.055353</td>\n",
       "      <td>-0.059752</td>\n",
       "      <td>378.66</td>\n",
       "      <td>0</td>\n",
       "    </tr>\n",
       "    <tr>\n",
       "      <th>3</th>\n",
       "      <td>1.0</td>\n",
       "      <td>-0.966272</td>\n",
       "      <td>-0.185226</td>\n",
       "      <td>1.792993</td>\n",
       "      <td>-0.863291</td>\n",
       "      <td>-0.010309</td>\n",
       "      <td>1.247203</td>\n",
       "      <td>0.237609</td>\n",
       "      <td>0.377436</td>\n",
       "      <td>-1.387024</td>\n",
       "      <td>...</td>\n",
       "      <td>-0.108300</td>\n",
       "      <td>0.005274</td>\n",
       "      <td>-0.190321</td>\n",
       "      <td>-1.175575</td>\n",
       "      <td>0.647376</td>\n",
       "      <td>-0.221929</td>\n",
       "      <td>0.062723</td>\n",
       "      <td>0.061458</td>\n",
       "      <td>123.50</td>\n",
       "      <td>0</td>\n",
       "    </tr>\n",
       "    <tr>\n",
       "      <th>4</th>\n",
       "      <td>2.0</td>\n",
       "      <td>-1.158233</td>\n",
       "      <td>0.877737</td>\n",
       "      <td>1.548718</td>\n",
       "      <td>0.403034</td>\n",
       "      <td>-0.407193</td>\n",
       "      <td>0.095921</td>\n",
       "      <td>0.592941</td>\n",
       "      <td>-0.270533</td>\n",
       "      <td>0.817739</td>\n",
       "      <td>...</td>\n",
       "      <td>-0.009431</td>\n",
       "      <td>0.798278</td>\n",
       "      <td>-0.137458</td>\n",
       "      <td>0.141267</td>\n",
       "      <td>-0.206010</td>\n",
       "      <td>0.502292</td>\n",
       "      <td>0.219422</td>\n",
       "      <td>0.215153</td>\n",
       "      <td>69.99</td>\n",
       "      <td>0</td>\n",
       "    </tr>\n",
       "  </tbody>\n",
       "</table>\n",
       "<p>5 rows × 31 columns</p>\n",
       "</div>"
      ],
      "text/plain": [
       "   Time        V1        V2        V3        V4        V5        V6        V7  \\\n",
       "0   0.0 -1.359807 -0.072781  2.536347  1.378155 -0.338321  0.462388  0.239599   \n",
       "1   0.0  1.191857  0.266151  0.166480  0.448154  0.060018 -0.082361 -0.078803   \n",
       "2   1.0 -1.358354 -1.340163  1.773209  0.379780 -0.503198  1.800499  0.791461   \n",
       "3   1.0 -0.966272 -0.185226  1.792993 -0.863291 -0.010309  1.247203  0.237609   \n",
       "4   2.0 -1.158233  0.877737  1.548718  0.403034 -0.407193  0.095921  0.592941   \n",
       "\n",
       "         V8        V9  ...       V21       V22       V23       V24       V25  \\\n",
       "0  0.098698  0.363787  ... -0.018307  0.277838 -0.110474  0.066928  0.128539   \n",
       "1  0.085102 -0.255425  ... -0.225775 -0.638672  0.101288 -0.339846  0.167170   \n",
       "2  0.247676 -1.514654  ...  0.247998  0.771679  0.909412 -0.689281 -0.327642   \n",
       "3  0.377436 -1.387024  ... -0.108300  0.005274 -0.190321 -1.175575  0.647376   \n",
       "4 -0.270533  0.817739  ... -0.009431  0.798278 -0.137458  0.141267 -0.206010   \n",
       "\n",
       "        V26       V27       V28  Amount  Class  \n",
       "0 -0.189115  0.133558 -0.021053  149.62      0  \n",
       "1  0.125895 -0.008983  0.014724    2.69      0  \n",
       "2 -0.139097 -0.055353 -0.059752  378.66      0  \n",
       "3 -0.221929  0.062723  0.061458  123.50      0  \n",
       "4  0.502292  0.219422  0.215153   69.99      0  \n",
       "\n",
       "[5 rows x 31 columns]"
      ]
     },
     "execution_count": 10,
     "metadata": {},
     "output_type": "execute_result"
    }
   ],
   "source": [
    "##---------Type the code below this line------------------##\n",
    "data.head()"
   ]
  },
  {
   "cell_type": "code",
   "execution_count": 11,
   "id": "Wytx_xwZaQQ_",
   "metadata": {
    "colab": {
     "base_uri": "https://localhost:8080/",
     "height": 299
    },
    "id": "Wytx_xwZaQQ_",
    "outputId": "b2aef2e8-213a-49a7-9b44-5c0c7acb2cb1"
   },
   "outputs": [
    {
     "data": {
      "text/html": [
       "<div>\n",
       "<style scoped>\n",
       "    .dataframe tbody tr th:only-of-type {\n",
       "        vertical-align: middle;\n",
       "    }\n",
       "\n",
       "    .dataframe tbody tr th {\n",
       "        vertical-align: top;\n",
       "    }\n",
       "\n",
       "    .dataframe thead th {\n",
       "        text-align: right;\n",
       "    }\n",
       "</style>\n",
       "<table border=\"1\" class=\"dataframe\">\n",
       "  <thead>\n",
       "    <tr style=\"text-align: right;\">\n",
       "      <th></th>\n",
       "      <th>Time</th>\n",
       "      <th>V1</th>\n",
       "      <th>V2</th>\n",
       "      <th>V3</th>\n",
       "      <th>V4</th>\n",
       "      <th>V5</th>\n",
       "      <th>V6</th>\n",
       "      <th>V7</th>\n",
       "      <th>V8</th>\n",
       "      <th>V9</th>\n",
       "      <th>...</th>\n",
       "      <th>V21</th>\n",
       "      <th>V22</th>\n",
       "      <th>V23</th>\n",
       "      <th>V24</th>\n",
       "      <th>V25</th>\n",
       "      <th>V26</th>\n",
       "      <th>V27</th>\n",
       "      <th>V28</th>\n",
       "      <th>Amount</th>\n",
       "      <th>Class</th>\n",
       "    </tr>\n",
       "  </thead>\n",
       "  <tbody>\n",
       "    <tr>\n",
       "      <th>284802</th>\n",
       "      <td>172786.0</td>\n",
       "      <td>-11.881118</td>\n",
       "      <td>10.071785</td>\n",
       "      <td>-9.834783</td>\n",
       "      <td>-2.066656</td>\n",
       "      <td>-5.364473</td>\n",
       "      <td>-2.606837</td>\n",
       "      <td>-4.918215</td>\n",
       "      <td>7.305334</td>\n",
       "      <td>1.914428</td>\n",
       "      <td>...</td>\n",
       "      <td>0.213454</td>\n",
       "      <td>0.111864</td>\n",
       "      <td>1.014480</td>\n",
       "      <td>-0.509348</td>\n",
       "      <td>1.436807</td>\n",
       "      <td>0.250034</td>\n",
       "      <td>0.943651</td>\n",
       "      <td>0.823731</td>\n",
       "      <td>0.77</td>\n",
       "      <td>0</td>\n",
       "    </tr>\n",
       "    <tr>\n",
       "      <th>284803</th>\n",
       "      <td>172787.0</td>\n",
       "      <td>-0.732789</td>\n",
       "      <td>-0.055080</td>\n",
       "      <td>2.035030</td>\n",
       "      <td>-0.738589</td>\n",
       "      <td>0.868229</td>\n",
       "      <td>1.058415</td>\n",
       "      <td>0.024330</td>\n",
       "      <td>0.294869</td>\n",
       "      <td>0.584800</td>\n",
       "      <td>...</td>\n",
       "      <td>0.214205</td>\n",
       "      <td>0.924384</td>\n",
       "      <td>0.012463</td>\n",
       "      <td>-1.016226</td>\n",
       "      <td>-0.606624</td>\n",
       "      <td>-0.395255</td>\n",
       "      <td>0.068472</td>\n",
       "      <td>-0.053527</td>\n",
       "      <td>24.79</td>\n",
       "      <td>0</td>\n",
       "    </tr>\n",
       "    <tr>\n",
       "      <th>284804</th>\n",
       "      <td>172788.0</td>\n",
       "      <td>1.919565</td>\n",
       "      <td>-0.301254</td>\n",
       "      <td>-3.249640</td>\n",
       "      <td>-0.557828</td>\n",
       "      <td>2.630515</td>\n",
       "      <td>3.031260</td>\n",
       "      <td>-0.296827</td>\n",
       "      <td>0.708417</td>\n",
       "      <td>0.432454</td>\n",
       "      <td>...</td>\n",
       "      <td>0.232045</td>\n",
       "      <td>0.578229</td>\n",
       "      <td>-0.037501</td>\n",
       "      <td>0.640134</td>\n",
       "      <td>0.265745</td>\n",
       "      <td>-0.087371</td>\n",
       "      <td>0.004455</td>\n",
       "      <td>-0.026561</td>\n",
       "      <td>67.88</td>\n",
       "      <td>0</td>\n",
       "    </tr>\n",
       "    <tr>\n",
       "      <th>284805</th>\n",
       "      <td>172788.0</td>\n",
       "      <td>-0.240440</td>\n",
       "      <td>0.530483</td>\n",
       "      <td>0.702510</td>\n",
       "      <td>0.689799</td>\n",
       "      <td>-0.377961</td>\n",
       "      <td>0.623708</td>\n",
       "      <td>-0.686180</td>\n",
       "      <td>0.679145</td>\n",
       "      <td>0.392087</td>\n",
       "      <td>...</td>\n",
       "      <td>0.265245</td>\n",
       "      <td>0.800049</td>\n",
       "      <td>-0.163298</td>\n",
       "      <td>0.123205</td>\n",
       "      <td>-0.569159</td>\n",
       "      <td>0.546668</td>\n",
       "      <td>0.108821</td>\n",
       "      <td>0.104533</td>\n",
       "      <td>10.00</td>\n",
       "      <td>0</td>\n",
       "    </tr>\n",
       "    <tr>\n",
       "      <th>284806</th>\n",
       "      <td>172792.0</td>\n",
       "      <td>-0.533413</td>\n",
       "      <td>-0.189733</td>\n",
       "      <td>0.703337</td>\n",
       "      <td>-0.506271</td>\n",
       "      <td>-0.012546</td>\n",
       "      <td>-0.649617</td>\n",
       "      <td>1.577006</td>\n",
       "      <td>-0.414650</td>\n",
       "      <td>0.486180</td>\n",
       "      <td>...</td>\n",
       "      <td>0.261057</td>\n",
       "      <td>0.643078</td>\n",
       "      <td>0.376777</td>\n",
       "      <td>0.008797</td>\n",
       "      <td>-0.473649</td>\n",
       "      <td>-0.818267</td>\n",
       "      <td>-0.002415</td>\n",
       "      <td>0.013649</td>\n",
       "      <td>217.00</td>\n",
       "      <td>0</td>\n",
       "    </tr>\n",
       "  </tbody>\n",
       "</table>\n",
       "<p>5 rows × 31 columns</p>\n",
       "</div>"
      ],
      "text/plain": [
       "            Time         V1         V2        V3        V4        V5  \\\n",
       "284802  172786.0 -11.881118  10.071785 -9.834783 -2.066656 -5.364473   \n",
       "284803  172787.0  -0.732789  -0.055080  2.035030 -0.738589  0.868229   \n",
       "284804  172788.0   1.919565  -0.301254 -3.249640 -0.557828  2.630515   \n",
       "284805  172788.0  -0.240440   0.530483  0.702510  0.689799 -0.377961   \n",
       "284806  172792.0  -0.533413  -0.189733  0.703337 -0.506271 -0.012546   \n",
       "\n",
       "              V6        V7        V8        V9  ...       V21       V22  \\\n",
       "284802 -2.606837 -4.918215  7.305334  1.914428  ...  0.213454  0.111864   \n",
       "284803  1.058415  0.024330  0.294869  0.584800  ...  0.214205  0.924384   \n",
       "284804  3.031260 -0.296827  0.708417  0.432454  ...  0.232045  0.578229   \n",
       "284805  0.623708 -0.686180  0.679145  0.392087  ...  0.265245  0.800049   \n",
       "284806 -0.649617  1.577006 -0.414650  0.486180  ...  0.261057  0.643078   \n",
       "\n",
       "             V23       V24       V25       V26       V27       V28  Amount  \\\n",
       "284802  1.014480 -0.509348  1.436807  0.250034  0.943651  0.823731    0.77   \n",
       "284803  0.012463 -1.016226 -0.606624 -0.395255  0.068472 -0.053527   24.79   \n",
       "284804 -0.037501  0.640134  0.265745 -0.087371  0.004455 -0.026561   67.88   \n",
       "284805 -0.163298  0.123205 -0.569159  0.546668  0.108821  0.104533   10.00   \n",
       "284806  0.376777  0.008797 -0.473649 -0.818267 -0.002415  0.013649  217.00   \n",
       "\n",
       "        Class  \n",
       "284802      0  \n",
       "284803      0  \n",
       "284804      0  \n",
       "284805      0  \n",
       "284806      0  \n",
       "\n",
       "[5 rows x 31 columns]"
      ]
     },
     "execution_count": 11,
     "metadata": {},
     "output_type": "execute_result"
    }
   ],
   "source": [
    "data.tail()"
   ]
  },
  {
   "cell_type": "markdown",
   "id": "bb84fc56",
   "metadata": {
    "id": "bb84fc56"
   },
   "source": [
    "## 2.4 Display the column headings, statistical information, description and statistical summary of the data."
   ]
  },
  {
   "cell_type": "code",
   "execution_count": 12,
   "id": "S2zxKc8KbSJJ",
   "metadata": {
    "colab": {
     "base_uri": "https://localhost:8080/"
    },
    "id": "S2zxKc8KbSJJ",
    "outputId": "822a794f-8b4e-4c30-f80b-a190625a0d33"
   },
   "outputs": [
    {
     "name": "stdout",
     "output_type": "stream",
     "text": [
      "Column Headings\n",
      "Time\n",
      "V1\n",
      "V2\n",
      "V3\n",
      "V4\n",
      "V5\n",
      "V6\n",
      "V7\n",
      "V8\n",
      "V9\n",
      "V10\n",
      "V11\n",
      "V12\n",
      "V13\n",
      "V14\n",
      "V15\n",
      "V16\n",
      "V17\n",
      "V18\n",
      "V19\n",
      "V20\n",
      "V21\n",
      "V22\n",
      "V23\n",
      "V24\n",
      "V25\n",
      "V26\n",
      "V27\n",
      "V28\n",
      "Amount\n",
      "Class\n"
     ]
    }
   ],
   "source": [
    "print(\"Column Headings\")\n",
    "for col in data.columns:\n",
    "  print(col)"
   ]
  },
  {
   "cell_type": "code",
   "execution_count": 13,
   "id": "LuFsV9XSb7YG",
   "metadata": {
    "colab": {
     "base_uri": "https://localhost:8080/"
    },
    "id": "LuFsV9XSb7YG",
    "outputId": "8599f09b-60dd-4710-ca02-490824ef1c34"
   },
   "outputs": [
    {
     "data": {
      "text/plain": [
       "(284807, 31)"
      ]
     },
     "execution_count": 13,
     "metadata": {},
     "output_type": "execute_result"
    }
   ],
   "source": [
    "data.shape"
   ]
  },
  {
   "cell_type": "code",
   "execution_count": 14,
   "id": "086ad28e",
   "metadata": {
    "colab": {
     "base_uri": "https://localhost:8080/",
     "height": 393
    },
    "id": "086ad28e",
    "outputId": "4c1733ba-e366-4d0c-a9af-40593716805f"
   },
   "outputs": [
    {
     "data": {
      "text/html": [
       "<div>\n",
       "<style scoped>\n",
       "    .dataframe tbody tr th:only-of-type {\n",
       "        vertical-align: middle;\n",
       "    }\n",
       "\n",
       "    .dataframe tbody tr th {\n",
       "        vertical-align: top;\n",
       "    }\n",
       "\n",
       "    .dataframe thead th {\n",
       "        text-align: right;\n",
       "    }\n",
       "</style>\n",
       "<table border=\"1\" class=\"dataframe\">\n",
       "  <thead>\n",
       "    <tr style=\"text-align: right;\">\n",
       "      <th></th>\n",
       "      <th>Time</th>\n",
       "      <th>V1</th>\n",
       "      <th>V2</th>\n",
       "      <th>V3</th>\n",
       "      <th>V4</th>\n",
       "      <th>V5</th>\n",
       "      <th>V6</th>\n",
       "      <th>V7</th>\n",
       "      <th>V8</th>\n",
       "      <th>V9</th>\n",
       "      <th>...</th>\n",
       "      <th>V21</th>\n",
       "      <th>V22</th>\n",
       "      <th>V23</th>\n",
       "      <th>V24</th>\n",
       "      <th>V25</th>\n",
       "      <th>V26</th>\n",
       "      <th>V27</th>\n",
       "      <th>V28</th>\n",
       "      <th>Amount</th>\n",
       "      <th>Class</th>\n",
       "    </tr>\n",
       "  </thead>\n",
       "  <tbody>\n",
       "    <tr>\n",
       "      <th>count</th>\n",
       "      <td>284807.000000</td>\n",
       "      <td>2.848070e+05</td>\n",
       "      <td>2.848070e+05</td>\n",
       "      <td>2.848070e+05</td>\n",
       "      <td>2.848070e+05</td>\n",
       "      <td>2.848070e+05</td>\n",
       "      <td>2.848070e+05</td>\n",
       "      <td>2.848070e+05</td>\n",
       "      <td>2.848070e+05</td>\n",
       "      <td>2.848070e+05</td>\n",
       "      <td>...</td>\n",
       "      <td>2.848070e+05</td>\n",
       "      <td>2.848070e+05</td>\n",
       "      <td>2.848070e+05</td>\n",
       "      <td>2.848070e+05</td>\n",
       "      <td>2.848070e+05</td>\n",
       "      <td>2.848070e+05</td>\n",
       "      <td>2.848070e+05</td>\n",
       "      <td>2.848070e+05</td>\n",
       "      <td>284807.000000</td>\n",
       "      <td>284807.000000</td>\n",
       "    </tr>\n",
       "    <tr>\n",
       "      <th>mean</th>\n",
       "      <td>94813.859575</td>\n",
       "      <td>1.758702e-12</td>\n",
       "      <td>-8.252296e-13</td>\n",
       "      <td>-9.637438e-13</td>\n",
       "      <td>8.316234e-13</td>\n",
       "      <td>1.592013e-13</td>\n",
       "      <td>4.247308e-13</td>\n",
       "      <td>-3.050183e-13</td>\n",
       "      <td>8.692882e-14</td>\n",
       "      <td>-1.179710e-12</td>\n",
       "      <td>...</td>\n",
       "      <td>-3.406538e-13</td>\n",
       "      <td>-5.713357e-13</td>\n",
       "      <td>-9.725290e-13</td>\n",
       "      <td>1.464144e-12</td>\n",
       "      <td>-6.989090e-13</td>\n",
       "      <td>-5.615254e-13</td>\n",
       "      <td>3.332111e-12</td>\n",
       "      <td>-3.518885e-12</td>\n",
       "      <td>88.349619</td>\n",
       "      <td>0.001727</td>\n",
       "    </tr>\n",
       "    <tr>\n",
       "      <th>std</th>\n",
       "      <td>47488.145955</td>\n",
       "      <td>1.958696e+00</td>\n",
       "      <td>1.651309e+00</td>\n",
       "      <td>1.516255e+00</td>\n",
       "      <td>1.415869e+00</td>\n",
       "      <td>1.380247e+00</td>\n",
       "      <td>1.332271e+00</td>\n",
       "      <td>1.237094e+00</td>\n",
       "      <td>1.194353e+00</td>\n",
       "      <td>1.098632e+00</td>\n",
       "      <td>...</td>\n",
       "      <td>7.345240e-01</td>\n",
       "      <td>7.257016e-01</td>\n",
       "      <td>6.244603e-01</td>\n",
       "      <td>6.056471e-01</td>\n",
       "      <td>5.212781e-01</td>\n",
       "      <td>4.822270e-01</td>\n",
       "      <td>4.036325e-01</td>\n",
       "      <td>3.300833e-01</td>\n",
       "      <td>250.120109</td>\n",
       "      <td>0.041527</td>\n",
       "    </tr>\n",
       "    <tr>\n",
       "      <th>min</th>\n",
       "      <td>0.000000</td>\n",
       "      <td>-5.640751e+01</td>\n",
       "      <td>-7.271573e+01</td>\n",
       "      <td>-4.832559e+01</td>\n",
       "      <td>-5.683171e+00</td>\n",
       "      <td>-1.137433e+02</td>\n",
       "      <td>-2.616051e+01</td>\n",
       "      <td>-4.355724e+01</td>\n",
       "      <td>-7.321672e+01</td>\n",
       "      <td>-1.343407e+01</td>\n",
       "      <td>...</td>\n",
       "      <td>-3.483038e+01</td>\n",
       "      <td>-1.093314e+01</td>\n",
       "      <td>-4.480774e+01</td>\n",
       "      <td>-2.836627e+00</td>\n",
       "      <td>-1.029540e+01</td>\n",
       "      <td>-2.604551e+00</td>\n",
       "      <td>-2.256568e+01</td>\n",
       "      <td>-1.543008e+01</td>\n",
       "      <td>0.000000</td>\n",
       "      <td>0.000000</td>\n",
       "    </tr>\n",
       "    <tr>\n",
       "      <th>25%</th>\n",
       "      <td>54201.500000</td>\n",
       "      <td>-9.203734e-01</td>\n",
       "      <td>-5.985499e-01</td>\n",
       "      <td>-8.903648e-01</td>\n",
       "      <td>-8.486401e-01</td>\n",
       "      <td>-6.915971e-01</td>\n",
       "      <td>-7.682956e-01</td>\n",
       "      <td>-5.540759e-01</td>\n",
       "      <td>-2.086297e-01</td>\n",
       "      <td>-6.430976e-01</td>\n",
       "      <td>...</td>\n",
       "      <td>-2.283949e-01</td>\n",
       "      <td>-5.423504e-01</td>\n",
       "      <td>-1.618463e-01</td>\n",
       "      <td>-3.545861e-01</td>\n",
       "      <td>-3.171451e-01</td>\n",
       "      <td>-3.269839e-01</td>\n",
       "      <td>-7.083953e-02</td>\n",
       "      <td>-5.295979e-02</td>\n",
       "      <td>5.600000</td>\n",
       "      <td>0.000000</td>\n",
       "    </tr>\n",
       "    <tr>\n",
       "      <th>50%</th>\n",
       "      <td>84692.000000</td>\n",
       "      <td>1.810880e-02</td>\n",
       "      <td>6.548556e-02</td>\n",
       "      <td>1.798463e-01</td>\n",
       "      <td>-1.984653e-02</td>\n",
       "      <td>-5.433583e-02</td>\n",
       "      <td>-2.741871e-01</td>\n",
       "      <td>4.010308e-02</td>\n",
       "      <td>2.235804e-02</td>\n",
       "      <td>-5.142873e-02</td>\n",
       "      <td>...</td>\n",
       "      <td>-2.945017e-02</td>\n",
       "      <td>6.781943e-03</td>\n",
       "      <td>-1.119293e-02</td>\n",
       "      <td>4.097606e-02</td>\n",
       "      <td>1.659350e-02</td>\n",
       "      <td>-5.213911e-02</td>\n",
       "      <td>1.342146e-03</td>\n",
       "      <td>1.124383e-02</td>\n",
       "      <td>22.000000</td>\n",
       "      <td>0.000000</td>\n",
       "    </tr>\n",
       "    <tr>\n",
       "      <th>75%</th>\n",
       "      <td>139320.500000</td>\n",
       "      <td>1.315642e+00</td>\n",
       "      <td>8.037239e-01</td>\n",
       "      <td>1.027196e+00</td>\n",
       "      <td>7.433413e-01</td>\n",
       "      <td>6.119264e-01</td>\n",
       "      <td>3.985649e-01</td>\n",
       "      <td>5.704361e-01</td>\n",
       "      <td>3.273459e-01</td>\n",
       "      <td>5.971390e-01</td>\n",
       "      <td>...</td>\n",
       "      <td>1.863772e-01</td>\n",
       "      <td>5.285536e-01</td>\n",
       "      <td>1.476421e-01</td>\n",
       "      <td>4.395266e-01</td>\n",
       "      <td>3.507156e-01</td>\n",
       "      <td>2.409522e-01</td>\n",
       "      <td>9.104512e-02</td>\n",
       "      <td>7.827995e-02</td>\n",
       "      <td>77.165000</td>\n",
       "      <td>0.000000</td>\n",
       "    </tr>\n",
       "    <tr>\n",
       "      <th>max</th>\n",
       "      <td>172792.000000</td>\n",
       "      <td>2.454930e+00</td>\n",
       "      <td>2.205773e+01</td>\n",
       "      <td>9.382558e+00</td>\n",
       "      <td>1.687534e+01</td>\n",
       "      <td>3.480167e+01</td>\n",
       "      <td>7.330163e+01</td>\n",
       "      <td>1.205895e+02</td>\n",
       "      <td>2.000721e+01</td>\n",
       "      <td>1.559499e+01</td>\n",
       "      <td>...</td>\n",
       "      <td>2.720284e+01</td>\n",
       "      <td>1.050309e+01</td>\n",
       "      <td>2.252841e+01</td>\n",
       "      <td>4.584549e+00</td>\n",
       "      <td>7.519589e+00</td>\n",
       "      <td>3.517346e+00</td>\n",
       "      <td>3.161220e+01</td>\n",
       "      <td>3.384781e+01</td>\n",
       "      <td>25691.160000</td>\n",
       "      <td>1.000000</td>\n",
       "    </tr>\n",
       "  </tbody>\n",
       "</table>\n",
       "<p>8 rows × 31 columns</p>\n",
       "</div>"
      ],
      "text/plain": [
       "                Time            V1            V2            V3            V4  \\\n",
       "count  284807.000000  2.848070e+05  2.848070e+05  2.848070e+05  2.848070e+05   \n",
       "mean    94813.859575  1.758702e-12 -8.252296e-13 -9.637438e-13  8.316234e-13   \n",
       "std     47488.145955  1.958696e+00  1.651309e+00  1.516255e+00  1.415869e+00   \n",
       "min         0.000000 -5.640751e+01 -7.271573e+01 -4.832559e+01 -5.683171e+00   \n",
       "25%     54201.500000 -9.203734e-01 -5.985499e-01 -8.903648e-01 -8.486401e-01   \n",
       "50%     84692.000000  1.810880e-02  6.548556e-02  1.798463e-01 -1.984653e-02   \n",
       "75%    139320.500000  1.315642e+00  8.037239e-01  1.027196e+00  7.433413e-01   \n",
       "max    172792.000000  2.454930e+00  2.205773e+01  9.382558e+00  1.687534e+01   \n",
       "\n",
       "                 V5            V6            V7            V8            V9  \\\n",
       "count  2.848070e+05  2.848070e+05  2.848070e+05  2.848070e+05  2.848070e+05   \n",
       "mean   1.592013e-13  4.247308e-13 -3.050183e-13  8.692882e-14 -1.179710e-12   \n",
       "std    1.380247e+00  1.332271e+00  1.237094e+00  1.194353e+00  1.098632e+00   \n",
       "min   -1.137433e+02 -2.616051e+01 -4.355724e+01 -7.321672e+01 -1.343407e+01   \n",
       "25%   -6.915971e-01 -7.682956e-01 -5.540759e-01 -2.086297e-01 -6.430976e-01   \n",
       "50%   -5.433583e-02 -2.741871e-01  4.010308e-02  2.235804e-02 -5.142873e-02   \n",
       "75%    6.119264e-01  3.985649e-01  5.704361e-01  3.273459e-01  5.971390e-01   \n",
       "max    3.480167e+01  7.330163e+01  1.205895e+02  2.000721e+01  1.559499e+01   \n",
       "\n",
       "       ...           V21           V22           V23           V24  \\\n",
       "count  ...  2.848070e+05  2.848070e+05  2.848070e+05  2.848070e+05   \n",
       "mean   ... -3.406538e-13 -5.713357e-13 -9.725290e-13  1.464144e-12   \n",
       "std    ...  7.345240e-01  7.257016e-01  6.244603e-01  6.056471e-01   \n",
       "min    ... -3.483038e+01 -1.093314e+01 -4.480774e+01 -2.836627e+00   \n",
       "25%    ... -2.283949e-01 -5.423504e-01 -1.618463e-01 -3.545861e-01   \n",
       "50%    ... -2.945017e-02  6.781943e-03 -1.119293e-02  4.097606e-02   \n",
       "75%    ...  1.863772e-01  5.285536e-01  1.476421e-01  4.395266e-01   \n",
       "max    ...  2.720284e+01  1.050309e+01  2.252841e+01  4.584549e+00   \n",
       "\n",
       "                V25           V26           V27           V28         Amount  \\\n",
       "count  2.848070e+05  2.848070e+05  2.848070e+05  2.848070e+05  284807.000000   \n",
       "mean  -6.989090e-13 -5.615254e-13  3.332111e-12 -3.518885e-12      88.349619   \n",
       "std    5.212781e-01  4.822270e-01  4.036325e-01  3.300833e-01     250.120109   \n",
       "min   -1.029540e+01 -2.604551e+00 -2.256568e+01 -1.543008e+01       0.000000   \n",
       "25%   -3.171451e-01 -3.269839e-01 -7.083953e-02 -5.295979e-02       5.600000   \n",
       "50%    1.659350e-02 -5.213911e-02  1.342146e-03  1.124383e-02      22.000000   \n",
       "75%    3.507156e-01  2.409522e-01  9.104512e-02  7.827995e-02      77.165000   \n",
       "max    7.519589e+00  3.517346e+00  3.161220e+01  3.384781e+01   25691.160000   \n",
       "\n",
       "               Class  \n",
       "count  284807.000000  \n",
       "mean        0.001727  \n",
       "std         0.041527  \n",
       "min         0.000000  \n",
       "25%         0.000000  \n",
       "50%         0.000000  \n",
       "75%         0.000000  \n",
       "max         1.000000  \n",
       "\n",
       "[8 rows x 31 columns]"
      ]
     },
     "execution_count": 14,
     "metadata": {},
     "output_type": "execute_result"
    }
   ],
   "source": [
    "##---------Type the code below this line------------------##\n",
    "data.describe()"
   ]
  },
  {
   "cell_type": "code",
   "execution_count": 15,
   "id": "yGcYQ8txaX5p",
   "metadata": {
    "colab": {
     "base_uri": "https://localhost:8080/"
    },
    "id": "yGcYQ8txaX5p",
    "outputId": "ff0264ca-3b90-4e0f-9fa8-0a611a8fb4e7"
   },
   "outputs": [
    {
     "name": "stdout",
     "output_type": "stream",
     "text": [
      "<class 'pandas.core.frame.DataFrame'>\n",
      "RangeIndex: 284807 entries, 0 to 284806\n",
      "Data columns (total 31 columns):\n",
      " #   Column  Non-Null Count   Dtype  \n",
      "---  ------  --------------   -----  \n",
      " 0   Time    284807 non-null  float64\n",
      " 1   V1      284807 non-null  float64\n",
      " 2   V2      284807 non-null  float64\n",
      " 3   V3      284807 non-null  float64\n",
      " 4   V4      284807 non-null  float64\n",
      " 5   V5      284807 non-null  float64\n",
      " 6   V6      284807 non-null  float64\n",
      " 7   V7      284807 non-null  float64\n",
      " 8   V8      284807 non-null  float64\n",
      " 9   V9      284807 non-null  float64\n",
      " 10  V10     284807 non-null  float64\n",
      " 11  V11     284807 non-null  float64\n",
      " 12  V12     284807 non-null  float64\n",
      " 13  V13     284807 non-null  float64\n",
      " 14  V14     284807 non-null  float64\n",
      " 15  V15     284807 non-null  float64\n",
      " 16  V16     284807 non-null  float64\n",
      " 17  V17     284807 non-null  float64\n",
      " 18  V18     284807 non-null  float64\n",
      " 19  V19     284807 non-null  float64\n",
      " 20  V20     284807 non-null  float64\n",
      " 21  V21     284807 non-null  float64\n",
      " 22  V22     284807 non-null  float64\n",
      " 23  V23     284807 non-null  float64\n",
      " 24  V24     284807 non-null  float64\n",
      " 25  V25     284807 non-null  float64\n",
      " 26  V26     284807 non-null  float64\n",
      " 27  V27     284807 non-null  float64\n",
      " 28  V28     284807 non-null  float64\n",
      " 29  Amount  284807 non-null  float64\n",
      " 30  Class   284807 non-null  int64  \n",
      "dtypes: float64(30), int64(1)\n",
      "memory usage: 67.4 MB\n"
     ]
    }
   ],
   "source": [
    "data.info()"
   ]
  },
  {
   "cell_type": "code",
   "execution_count": 16,
   "id": "vhmsoMjydB78",
   "metadata": {
    "colab": {
     "base_uri": "https://localhost:8080/",
     "height": 423
    },
    "id": "vhmsoMjydB78",
    "outputId": "23a34ea3-44b7-40de-beb1-caec5dba86cc"
   },
   "outputs": [
    {
     "data": {
      "text/html": [
       "<div>\n",
       "<style scoped>\n",
       "    .dataframe tbody tr th:only-of-type {\n",
       "        vertical-align: middle;\n",
       "    }\n",
       "\n",
       "    .dataframe tbody tr th {\n",
       "        vertical-align: top;\n",
       "    }\n",
       "\n",
       "    .dataframe thead th {\n",
       "        text-align: right;\n",
       "    }\n",
       "</style>\n",
       "<table border=\"1\" class=\"dataframe\">\n",
       "  <thead>\n",
       "    <tr style=\"text-align: right;\">\n",
       "      <th></th>\n",
       "      <th>Time</th>\n",
       "      <th>V1</th>\n",
       "      <th>V2</th>\n",
       "      <th>V3</th>\n",
       "      <th>V4</th>\n",
       "      <th>V5</th>\n",
       "      <th>V6</th>\n",
       "      <th>V7</th>\n",
       "      <th>V8</th>\n",
       "      <th>V9</th>\n",
       "      <th>...</th>\n",
       "      <th>V21</th>\n",
       "      <th>V22</th>\n",
       "      <th>V23</th>\n",
       "      <th>V24</th>\n",
       "      <th>V25</th>\n",
       "      <th>V26</th>\n",
       "      <th>V27</th>\n",
       "      <th>V28</th>\n",
       "      <th>Amount</th>\n",
       "      <th>Class</th>\n",
       "    </tr>\n",
       "  </thead>\n",
       "  <tbody>\n",
       "    <tr>\n",
       "      <th>0</th>\n",
       "      <td>False</td>\n",
       "      <td>False</td>\n",
       "      <td>False</td>\n",
       "      <td>False</td>\n",
       "      <td>False</td>\n",
       "      <td>False</td>\n",
       "      <td>False</td>\n",
       "      <td>False</td>\n",
       "      <td>False</td>\n",
       "      <td>False</td>\n",
       "      <td>...</td>\n",
       "      <td>False</td>\n",
       "      <td>False</td>\n",
       "      <td>False</td>\n",
       "      <td>False</td>\n",
       "      <td>False</td>\n",
       "      <td>False</td>\n",
       "      <td>False</td>\n",
       "      <td>False</td>\n",
       "      <td>False</td>\n",
       "      <td>False</td>\n",
       "    </tr>\n",
       "    <tr>\n",
       "      <th>1</th>\n",
       "      <td>False</td>\n",
       "      <td>False</td>\n",
       "      <td>False</td>\n",
       "      <td>False</td>\n",
       "      <td>False</td>\n",
       "      <td>False</td>\n",
       "      <td>False</td>\n",
       "      <td>False</td>\n",
       "      <td>False</td>\n",
       "      <td>False</td>\n",
       "      <td>...</td>\n",
       "      <td>False</td>\n",
       "      <td>False</td>\n",
       "      <td>False</td>\n",
       "      <td>False</td>\n",
       "      <td>False</td>\n",
       "      <td>False</td>\n",
       "      <td>False</td>\n",
       "      <td>False</td>\n",
       "      <td>False</td>\n",
       "      <td>False</td>\n",
       "    </tr>\n",
       "    <tr>\n",
       "      <th>2</th>\n",
       "      <td>False</td>\n",
       "      <td>False</td>\n",
       "      <td>False</td>\n",
       "      <td>False</td>\n",
       "      <td>False</td>\n",
       "      <td>False</td>\n",
       "      <td>False</td>\n",
       "      <td>False</td>\n",
       "      <td>False</td>\n",
       "      <td>False</td>\n",
       "      <td>...</td>\n",
       "      <td>False</td>\n",
       "      <td>False</td>\n",
       "      <td>False</td>\n",
       "      <td>False</td>\n",
       "      <td>False</td>\n",
       "      <td>False</td>\n",
       "      <td>False</td>\n",
       "      <td>False</td>\n",
       "      <td>False</td>\n",
       "      <td>False</td>\n",
       "    </tr>\n",
       "    <tr>\n",
       "      <th>3</th>\n",
       "      <td>False</td>\n",
       "      <td>False</td>\n",
       "      <td>False</td>\n",
       "      <td>False</td>\n",
       "      <td>False</td>\n",
       "      <td>False</td>\n",
       "      <td>False</td>\n",
       "      <td>False</td>\n",
       "      <td>False</td>\n",
       "      <td>False</td>\n",
       "      <td>...</td>\n",
       "      <td>False</td>\n",
       "      <td>False</td>\n",
       "      <td>False</td>\n",
       "      <td>False</td>\n",
       "      <td>False</td>\n",
       "      <td>False</td>\n",
       "      <td>False</td>\n",
       "      <td>False</td>\n",
       "      <td>False</td>\n",
       "      <td>False</td>\n",
       "    </tr>\n",
       "    <tr>\n",
       "      <th>4</th>\n",
       "      <td>False</td>\n",
       "      <td>False</td>\n",
       "      <td>False</td>\n",
       "      <td>False</td>\n",
       "      <td>False</td>\n",
       "      <td>False</td>\n",
       "      <td>False</td>\n",
       "      <td>False</td>\n",
       "      <td>False</td>\n",
       "      <td>False</td>\n",
       "      <td>...</td>\n",
       "      <td>False</td>\n",
       "      <td>False</td>\n",
       "      <td>False</td>\n",
       "      <td>False</td>\n",
       "      <td>False</td>\n",
       "      <td>False</td>\n",
       "      <td>False</td>\n",
       "      <td>False</td>\n",
       "      <td>False</td>\n",
       "      <td>False</td>\n",
       "    </tr>\n",
       "    <tr>\n",
       "      <th>...</th>\n",
       "      <td>...</td>\n",
       "      <td>...</td>\n",
       "      <td>...</td>\n",
       "      <td>...</td>\n",
       "      <td>...</td>\n",
       "      <td>...</td>\n",
       "      <td>...</td>\n",
       "      <td>...</td>\n",
       "      <td>...</td>\n",
       "      <td>...</td>\n",
       "      <td>...</td>\n",
       "      <td>...</td>\n",
       "      <td>...</td>\n",
       "      <td>...</td>\n",
       "      <td>...</td>\n",
       "      <td>...</td>\n",
       "      <td>...</td>\n",
       "      <td>...</td>\n",
       "      <td>...</td>\n",
       "      <td>...</td>\n",
       "      <td>...</td>\n",
       "    </tr>\n",
       "    <tr>\n",
       "      <th>284802</th>\n",
       "      <td>False</td>\n",
       "      <td>False</td>\n",
       "      <td>False</td>\n",
       "      <td>False</td>\n",
       "      <td>False</td>\n",
       "      <td>False</td>\n",
       "      <td>False</td>\n",
       "      <td>False</td>\n",
       "      <td>False</td>\n",
       "      <td>False</td>\n",
       "      <td>...</td>\n",
       "      <td>False</td>\n",
       "      <td>False</td>\n",
       "      <td>False</td>\n",
       "      <td>False</td>\n",
       "      <td>False</td>\n",
       "      <td>False</td>\n",
       "      <td>False</td>\n",
       "      <td>False</td>\n",
       "      <td>False</td>\n",
       "      <td>False</td>\n",
       "    </tr>\n",
       "    <tr>\n",
       "      <th>284803</th>\n",
       "      <td>False</td>\n",
       "      <td>False</td>\n",
       "      <td>False</td>\n",
       "      <td>False</td>\n",
       "      <td>False</td>\n",
       "      <td>False</td>\n",
       "      <td>False</td>\n",
       "      <td>False</td>\n",
       "      <td>False</td>\n",
       "      <td>False</td>\n",
       "      <td>...</td>\n",
       "      <td>False</td>\n",
       "      <td>False</td>\n",
       "      <td>False</td>\n",
       "      <td>False</td>\n",
       "      <td>False</td>\n",
       "      <td>False</td>\n",
       "      <td>False</td>\n",
       "      <td>False</td>\n",
       "      <td>False</td>\n",
       "      <td>False</td>\n",
       "    </tr>\n",
       "    <tr>\n",
       "      <th>284804</th>\n",
       "      <td>False</td>\n",
       "      <td>False</td>\n",
       "      <td>False</td>\n",
       "      <td>False</td>\n",
       "      <td>False</td>\n",
       "      <td>False</td>\n",
       "      <td>False</td>\n",
       "      <td>False</td>\n",
       "      <td>False</td>\n",
       "      <td>False</td>\n",
       "      <td>...</td>\n",
       "      <td>False</td>\n",
       "      <td>False</td>\n",
       "      <td>False</td>\n",
       "      <td>False</td>\n",
       "      <td>False</td>\n",
       "      <td>False</td>\n",
       "      <td>False</td>\n",
       "      <td>False</td>\n",
       "      <td>False</td>\n",
       "      <td>False</td>\n",
       "    </tr>\n",
       "    <tr>\n",
       "      <th>284805</th>\n",
       "      <td>False</td>\n",
       "      <td>False</td>\n",
       "      <td>False</td>\n",
       "      <td>False</td>\n",
       "      <td>False</td>\n",
       "      <td>False</td>\n",
       "      <td>False</td>\n",
       "      <td>False</td>\n",
       "      <td>False</td>\n",
       "      <td>False</td>\n",
       "      <td>...</td>\n",
       "      <td>False</td>\n",
       "      <td>False</td>\n",
       "      <td>False</td>\n",
       "      <td>False</td>\n",
       "      <td>False</td>\n",
       "      <td>False</td>\n",
       "      <td>False</td>\n",
       "      <td>False</td>\n",
       "      <td>False</td>\n",
       "      <td>False</td>\n",
       "    </tr>\n",
       "    <tr>\n",
       "      <th>284806</th>\n",
       "      <td>False</td>\n",
       "      <td>False</td>\n",
       "      <td>False</td>\n",
       "      <td>False</td>\n",
       "      <td>False</td>\n",
       "      <td>False</td>\n",
       "      <td>False</td>\n",
       "      <td>False</td>\n",
       "      <td>False</td>\n",
       "      <td>False</td>\n",
       "      <td>...</td>\n",
       "      <td>False</td>\n",
       "      <td>False</td>\n",
       "      <td>False</td>\n",
       "      <td>False</td>\n",
       "      <td>False</td>\n",
       "      <td>False</td>\n",
       "      <td>False</td>\n",
       "      <td>False</td>\n",
       "      <td>False</td>\n",
       "      <td>False</td>\n",
       "    </tr>\n",
       "  </tbody>\n",
       "</table>\n",
       "<p>284807 rows × 31 columns</p>\n",
       "</div>"
      ],
      "text/plain": [
       "         Time     V1     V2     V3     V4     V5     V6     V7     V8     V9  \\\n",
       "0       False  False  False  False  False  False  False  False  False  False   \n",
       "1       False  False  False  False  False  False  False  False  False  False   \n",
       "2       False  False  False  False  False  False  False  False  False  False   \n",
       "3       False  False  False  False  False  False  False  False  False  False   \n",
       "4       False  False  False  False  False  False  False  False  False  False   \n",
       "...       ...    ...    ...    ...    ...    ...    ...    ...    ...    ...   \n",
       "284802  False  False  False  False  False  False  False  False  False  False   \n",
       "284803  False  False  False  False  False  False  False  False  False  False   \n",
       "284804  False  False  False  False  False  False  False  False  False  False   \n",
       "284805  False  False  False  False  False  False  False  False  False  False   \n",
       "284806  False  False  False  False  False  False  False  False  False  False   \n",
       "\n",
       "        ...    V21    V22    V23    V24    V25    V26    V27    V28  Amount  \\\n",
       "0       ...  False  False  False  False  False  False  False  False   False   \n",
       "1       ...  False  False  False  False  False  False  False  False   False   \n",
       "2       ...  False  False  False  False  False  False  False  False   False   \n",
       "3       ...  False  False  False  False  False  False  False  False   False   \n",
       "4       ...  False  False  False  False  False  False  False  False   False   \n",
       "...     ...    ...    ...    ...    ...    ...    ...    ...    ...     ...   \n",
       "284802  ...  False  False  False  False  False  False  False  False   False   \n",
       "284803  ...  False  False  False  False  False  False  False  False   False   \n",
       "284804  ...  False  False  False  False  False  False  False  False   False   \n",
       "284805  ...  False  False  False  False  False  False  False  False   False   \n",
       "284806  ...  False  False  False  False  False  False  False  False   False   \n",
       "\n",
       "        Class  \n",
       "0       False  \n",
       "1       False  \n",
       "2       False  \n",
       "3       False  \n",
       "4       False  \n",
       "...       ...  \n",
       "284802  False  \n",
       "284803  False  \n",
       "284804  False  \n",
       "284805  False  \n",
       "284806  False  \n",
       "\n",
       "[284807 rows x 31 columns]"
      ]
     },
     "execution_count": 16,
     "metadata": {},
     "output_type": "execute_result"
    }
   ],
   "source": [
    "data.isnull()"
   ]
  },
  {
   "cell_type": "code",
   "execution_count": null,
   "id": "pjDrLjBrdn73",
   "metadata": {
    "colab": {
     "base_uri": "https://localhost:8080/"
    },
    "id": "pjDrLjBrdn73",
    "outputId": "d9d6b0fa-9c04-47c3-c8d1-e13558c0d7c6"
   },
   "outputs": [],
   "source": []
  },
  {
   "cell_type": "markdown",
   "id": "812edb18",
   "metadata": {
    "id": "812edb18"
   },
   "source": [
    "## 2.5 Write your observations from the above. \n",
    "1. Size of the dataset\n",
    "2. What type of data attributes are there?\n",
    "3. Is there any null data that has to be cleaned?\n",
    "\n",
    "Score: 2 Marks in total (0.25 marks for 2.1, 0.25 marks for 2.2, 0.5 marks for 2.3, 0.25 marks for 2.4, 0.75 marks for 2.5)"
   ]
  },
  {
   "cell_type": "raw",
   "id": "60d80d2f",
   "metadata": {
    "id": "60d80d2f"
   },
   "source": [
    "--------------Type the answers below this line--------------\n",
    "1.284807 rows × 31 columns\n",
    "2.data types that are present are dtypes: float64(30), int64(1)\n",
    "3.No "
   ]
  },
  {
   "cell_type": "markdown",
   "id": "102e0e36",
   "metadata": {
    "id": "102e0e36"
   },
   "source": [
    "# 3. Data Preparation"
   ]
  },
  {
   "cell_type": "raw",
   "id": "637cb469",
   "metadata": {
    "id": "637cb469"
   },
   "source": [
    "If input data is numerical or categorical, do 3.1, 3.2 and 3.4\n",
    "If input data is text, do 3.3 and 3.4"
   ]
  },
  {
   "cell_type": "markdown",
   "id": "2bcb953b",
   "metadata": {
    "id": "2bcb953b"
   },
   "source": [
    "## 3.1 Check for \n",
    "\n",
    "* duplicate data\n",
    "* missing data\n",
    "* data inconsistencies\n"
   ]
  },
  {
   "cell_type": "code",
   "execution_count": 17,
   "id": "5a5b960e",
   "metadata": {
    "colab": {
     "base_uri": "https://localhost:8080/"
    },
    "id": "5a5b960e",
    "outputId": "242d7818-c760-4d15-b53c-5a24540d4e7e"
   },
   "outputs": [
    {
     "data": {
      "text/plain": [
       "True"
      ]
     },
     "execution_count": 17,
     "metadata": {},
     "output_type": "execute_result"
    }
   ],
   "source": [
    "##---------Type the code below this line------------------##\n",
    "data.duplicated().any()"
   ]
  },
  {
   "cell_type": "code",
   "execution_count": 18,
   "id": "lA5U29rzdzkx",
   "metadata": {
    "colab": {
     "base_uri": "https://localhost:8080/"
    },
    "id": "lA5U29rzdzkx",
    "outputId": "4ff62b73-2f4f-423e-b928-b8b97fdcc99d"
   },
   "outputs": [
    {
     "data": {
      "text/plain": [
       "Time      0\n",
       "V1        0\n",
       "V2        0\n",
       "V3        0\n",
       "V4        0\n",
       "V5        0\n",
       "V6        0\n",
       "V7        0\n",
       "V8        0\n",
       "V9        0\n",
       "V10       0\n",
       "V11       0\n",
       "V12       0\n",
       "V13       0\n",
       "V14       0\n",
       "V15       0\n",
       "V16       0\n",
       "V17       0\n",
       "V18       0\n",
       "V19       0\n",
       "V20       0\n",
       "V21       0\n",
       "V22       0\n",
       "V23       0\n",
       "V24       0\n",
       "V25       0\n",
       "V26       0\n",
       "V27       0\n",
       "V28       0\n",
       "Amount    0\n",
       "Class     0\n",
       "dtype: int64"
      ]
     },
     "execution_count": 18,
     "metadata": {},
     "output_type": "execute_result"
    }
   ],
   "source": [
    "data.isna().sum()"
   ]
  },
  {
   "cell_type": "code",
   "execution_count": 20,
   "id": "gIT5JrjVeWny",
   "metadata": {
    "colab": {
     "base_uri": "https://localhost:8080/"
    },
    "id": "gIT5JrjVeWny",
    "outputId": "8acd86af-19cc-45dc-c361-ae74d54cb806"
   },
   "outputs": [
    {
     "name": "stdout",
     "output_type": "stream",
     "text": [
      "[0.00000e+00 1.00000e+00 2.00000e+00 ... 1.72787e+05 1.72788e+05\n",
      " 1.72792e+05]\n",
      "[-1.35980713  1.19185711 -1.35835406 ...  1.91956501 -0.24044005\n",
      " -0.53341252]\n",
      "[-0.07278117  0.26615071 -1.34016307 ... -0.30125385  0.53048251\n",
      " -0.18973334]\n",
      "[ 2.53634674  0.16648011  1.77320934 ... -3.24963981  0.70251023\n",
      "  0.70333737]\n",
      "[ 1.37815522  0.44815408  0.37977959 ... -0.55782813  0.68979917\n",
      " -0.50627124]\n",
      "[-0.33832077  0.06001765 -0.50319813 ...  2.63051512 -0.37796113\n",
      " -0.01254568]\n",
      "[ 0.46238778 -0.08236081  1.80049938 ...  3.0312601   0.62370772\n",
      " -0.64961669]\n",
      "[ 0.23959855 -0.07880298  0.79146096 ... -0.29682653 -0.68617999\n",
      "  1.57700625]\n",
      "[ 0.0986979   0.08510165  0.24767579 ...  0.70841718  0.67914546\n",
      " -0.41465041]\n",
      "[ 0.36378697 -0.25542513 -1.51465432 ...  0.43245405  0.39208671\n",
      "  0.48617951]\n",
      "[ 0.09079417 -0.16697441  0.20764287 ... -0.48478176 -0.39912565\n",
      " -0.91542665]\n",
      "[-0.55159953  1.61272666  0.62450146 ...  0.41161374 -1.93384881\n",
      " -1.04045834]\n",
      "[-0.61780086  1.06523531  0.06608369 ...  0.06311886 -0.96288614\n",
      " -0.03151305]\n",
      "[-0.99138985  0.48909502  0.71729273 ... -0.18369869 -1.04208166\n",
      " -0.1880929 ]\n",
      "[-0.31116935 -0.1437723  -0.16594592 ... -0.51060184  0.44962444\n",
      " -0.08431647]\n",
      "[1.46817697 0.63555809 2.34586495 ... 1.32928351 1.96256312 0.04133345]\n",
      "[-0.47040053  0.46391704 -2.89008319 ...  0.14071598 -0.60857713\n",
      " -0.30262009]\n",
      "[ 0.20797124 -0.11480466  1.10996938 ...  0.31350179  0.50992846\n",
      " -0.66037665]\n",
      "[ 0.02579058 -0.18336127 -0.12135931 ...  0.39565248  1.11398059\n",
      "  0.16742993]\n",
      "[ 0.40399296 -0.14578304 -2.26185709 ... -0.57725184  2.89784877\n",
      " -0.25611687]\n",
      "[ 0.2514121  -0.06908314  0.52497973 ...  0.00139597  0.12743352\n",
      "  0.3829481 ]\n",
      "[-0.01830678 -0.22577525  0.24799815 ...  0.23204504  0.26524492\n",
      "  0.26105733]\n",
      "[ 0.27783758 -0.63867195  0.7716794  ...  0.57822901  0.80004874\n",
      "  0.64307844]\n",
      "[-0.11047391  0.10128802  0.90941226 ... -0.03750085 -0.16329794\n",
      "  0.37677701]\n",
      "[ 0.06692808 -0.33984648 -0.68928096 ...  0.64013388  0.12320524\n",
      "  0.00879738]\n",
      "[ 0.12853936  0.1671704  -0.32764183 ...  0.26574545 -0.56915886\n",
      " -0.4736487 ]\n",
      "[-0.18911484  0.12589453 -0.13909657 ... -0.0873706   0.54666846\n",
      " -0.81826712]\n",
      "[ 0.13355838 -0.0089831  -0.05535279 ...  0.00445477  0.10882074\n",
      " -0.00241531]\n",
      "[-0.02105305  0.01472417 -0.05975184 ... -0.02656083  0.10453282\n",
      "  0.01364891]\n",
      "[149.62   2.69 378.66 ... 381.05 337.54  95.63]\n",
      "[0 1]\n"
     ]
    }
   ],
   "source": [
    "for col in data.columns:\n",
    "  print(data[col].unique())"
   ]
  },
  {
   "cell_type": "markdown",
   "id": "06fdebf8",
   "metadata": {
    "id": "06fdebf8"
   },
   "source": [
    "## 3.2 Apply techiniques\n",
    "* to remove duplicate data\n",
    "* to impute or remove missing data\n",
    "* to remove data inconsistencies\n"
   ]
  },
  {
   "cell_type": "code",
   "execution_count": 21,
   "id": "dd3118eb",
   "metadata": {
    "colab": {
     "base_uri": "https://localhost:8080/"
    },
    "id": "dd3118eb",
    "outputId": "0d68b223-8bd2-4823-e4ae-62bdc31d5ebc"
   },
   "outputs": [
    {
     "data": {
      "text/plain": [
       "(283726, 31)"
      ]
     },
     "execution_count": 21,
     "metadata": {},
     "output_type": "execute_result"
    }
   ],
   "source": [
    "##---------Type the code below this line------------------##\n",
    "data.drop_duplicates(inplace=True)\n",
    "data.shape"
   ]
  },
  {
   "cell_type": "code",
   "execution_count": 22,
   "id": "wYxdIhVIevCs",
   "metadata": {
    "id": "wYxdIhVIevCs"
   },
   "outputs": [],
   "source": [
    "#no missing values"
   ]
  },
  {
   "cell_type": "markdown",
   "id": "2139fedf",
   "metadata": {
    "id": "2139fedf"
   },
   "source": [
    "## 3.3 Encode categorical data"
   ]
  },
  {
   "cell_type": "code",
   "execution_count": 23,
   "id": "da6886fc",
   "metadata": {
    "id": "da6886fc"
   },
   "outputs": [],
   "source": [
    "##---------Type the code below this line------------------##"
   ]
  },
  {
   "cell_type": "markdown",
   "id": "ae5a2917",
   "metadata": {
    "id": "ae5a2917"
   },
   "source": [
    "## 3.4 Text data\n",
    "\n",
    "1. Remove special characters\n",
    "2. Change the case (up-casing and down-casing).\n",
    "3. Tokenization — process of discretizing words within a document.\n",
    "4. Filter Stop Words."
   ]
  },
  {
   "cell_type": "code",
   "execution_count": null,
   "id": "c86d5b0b",
   "metadata": {
    "id": "c86d5b0b"
   },
   "outputs": [],
   "source": [
    "##---------Type the code below this line------------------##"
   ]
  },
  {
   "cell_type": "code",
   "execution_count": null,
   "id": "a3b2cdee",
   "metadata": {
    "id": "a3b2cdee"
   },
   "outputs": [],
   "source": [
    "##---------Type the code below this line------------------##"
   ]
  },
  {
   "cell_type": "markdown",
   "id": "e3cec4fc",
   "metadata": {
    "id": "e3cec4fc"
   },
   "source": [
    "## 3.4 Report\n",
    "\n",
    "Mention and justify the method adopted \n",
    "* to remove duplicate data, if present \n",
    "* to impute or remove missing data, if present \n",
    "* to remove data inconsistencies, if present \n",
    "\n",
    "OR for textdata\n",
    "* How many tokens after step 3?\n",
    "* how may tokens after stop words filtering?\n",
    "\n",
    "If the any of the above are not present, then also add in the report below.\n",
    "\n",
    "Score: 2 Marks (based on the dataset you have, the data prepreation you had to do and report typed, marks will be distributed between 3.1, 3.2, 3.3 and 3.4)"
   ]
  },
  {
   "cell_type": "code",
   "execution_count": null,
   "id": "3ab84ce6",
   "metadata": {
    "id": "3ab84ce6"
   },
   "outputs": [],
   "source": [
    "##---------Type the code below this line------------------##\n",
    "##---------Type the code below this line------------------##\n",
    "as per the information received from the data preprocessing tequniques there are some missing and null data and we over came that\n",
    "through some teqniques\n",
    "1.to remove duplicate data, if present\n",
    "to remove the duplicate data we used \"drop_duplicates\" inbuilt function\n",
    "2.to impute or remove missing data, if present\n",
    "\n",
    "so to remove or drop the unwanted columns or data we have used drop inbuilt function"
   ]
  },
  {
   "cell_type": "code",
   "execution_count": null,
   "id": "f0fea7e8",
   "metadata": {
    "id": "f0fea7e8"
   },
   "outputs": [],
   "source": [
    "##---------Type the code below this line------------------##"
   ]
  },
  {
   "cell_type": "markdown",
   "id": "793cd04b",
   "metadata": {
    "id": "793cd04b"
   },
   "source": [
    "## 3.5 Identify the target variables.\n",
    "\n",
    "* Separate the data from the target such that the dataset is in the form of (X,y) or (Features, Label)\n",
    "\n",
    "* Discretize / Encode the target variable or perform one-hot encoding on the target or any other as and if required.\n",
    "\n",
    "* Report the observations\n",
    "\n",
    "Score: 1 Mark"
   ]
  },
  {
   "cell_type": "code",
   "execution_count": 38,
   "id": "c9089b57",
   "metadata": {
    "id": "c9089b57"
   },
   "outputs": [],
   "source": [
    "##---------Type the code below this line------------------##\n",
    "X = data.drop(columns = 'Class')\n",
    "Y = data[\"Class\"]"
   ]
  },
  {
   "cell_type": "markdown",
   "id": "3ae0b5d2",
   "metadata": {
    "id": "3ae0b5d2"
   },
   "source": [
    "# 4. Data Exploration using various plots\n",
    "\n"
   ]
  },
  {
   "cell_type": "markdown",
   "id": "186bf4d7",
   "metadata": {
    "id": "186bf4d7"
   },
   "source": [
    "## 4.1 Scatter plot of each quantitative attribute with the target.\n",
    "\n",
    "Score: 1 Mark"
   ]
  },
  {
   "cell_type": "code",
   "execution_count": 39,
   "id": "868d7b27",
   "metadata": {
    "colab": {
     "base_uri": "https://localhost:8080/",
     "height": 731
    },
    "id": "868d7b27",
    "outputId": "e05f577a-5f76-41ee-d86e-7d35716e08b4"
   },
   "outputs": [
    {
     "data": {
      "text/plain": [
       "<AxesSubplot:xlabel='Time', ylabel='Amount'>"
      ]
     },
     "execution_count": 39,
     "metadata": {},
     "output_type": "execute_result"
    },
    {
     "data": {
      "image/png": "[encoded data removed]",
      "text/plain": [
       "<Figure size 1296x864 with 1 Axes>"
      ]
     },
     "metadata": {
      "needs_background": "light"
     },
     "output_type": "display_data"
    }
   ],
   "source": [
    "##---------Type the code below this line------------------##\n",
    "from matplotlib import pyplot as plt\n",
    "import seaborn as sns\n",
    "plt.figure(figsize=(18,12))\n",
    "sns.scatterplot(x=data[\"Time\"], y=data[\"Amount\"], hue=data[\"Class\"], size=data[\"Class\"], sizes=(40, 8), marker=\"+\")"
   ]
  },
  {
   "cell_type": "markdown",
   "id": "575f9e37",
   "metadata": {
    "id": "575f9e37"
   },
   "source": [
    "## 4.2 EDA using visuals\n",
    "* Use (minimum) 2 plots (pair plot, heat map, correlation plot, regression plot...) to identify the optimal set of attributes that can be used for classification. \n",
    "* Name them, explain why you think they can be helpful in the task and perform the plot as well. Unless proper justification for the choice of plots given, no credit will be awarded.\n",
    "\n",
    "Score: 2 Marks"
   ]
  },
  {
   "cell_type": "code",
   "execution_count": 40,
   "id": "4d614311",
   "metadata": {
    "colab": {
     "base_uri": "https://localhost:8080/",
     "height": 750
    },
    "id": "4d614311",
    "outputId": "0870bc17-deab-4b10-96de-b63b6d31f3e1"
   },
   "outputs": [
    {
     "data": {
      "text/plain": [
       "<AxesSubplot:>"
      ]
     },
     "execution_count": 40,
     "metadata": {},
     "output_type": "execute_result"
    },
    {
     "data": {
      "image/png": "[encoded data removed]",
      "text/plain": [
       "<Figure size 1296x864 with 2 Axes>"
      ]
     },
     "metadata": {
      "needs_background": "light"
     },
     "output_type": "display_data"
    }
   ],
   "source": [
    "##---------Type the code below this line------------------##\n",
    "correlated_data = data.corr()\n",
    "plt.figure(figsize=(18,12))\n",
    "sns.heatmap(correlated_data, annot=False)"
   ]
  },
  {
   "cell_type": "markdown",
   "id": "bdbc82a1",
   "metadata": {
    "id": "bdbc82a1"
   },
   "source": [
    "# 5. Data Wrangling\n",
    "\n"
   ]
  },
  {
   "cell_type": "markdown",
   "id": "ca214eb3",
   "metadata": {
    "id": "ca214eb3"
   },
   "source": [
    "## 5.1 Univariate Filters \n",
    "\n",
    "#### Numerical and Categorical Data\n",
    "* Identify top 5 significant features by evaluating each feature independently with respect to the target variable by exploring \n",
    "1. Mutual Information (Information Gain)\n",
    "2. Gini index\n",
    "3. Gain Ratio\n",
    "4. Chi-Squared test\n",
    "5. Fisher Score\n",
    "(From the above 5 you are required to use only any <b>two</b>) \n",
    "\n",
    "#### For Text data\n",
    "\n",
    "1. Stemming / Lemmatization.\n",
    "2. Forming n-grams and storing them in the document vector.\n",
    "3. TF-IDF\n",
    "(From the above 2 you are required to use only any <b>two</b>)\n",
    "\n",
    "\n",
    "Score: 3 Marks"
   ]
  },
  {
   "cell_type": "code",
   "execution_count": 60,
   "id": "a85e9754",
   "metadata": {
    "colab": {
     "base_uri": "https://localhost:8080/",
     "height": 380
    },
    "id": "a85e9754",
    "outputId": "d53bf5ac-0b55-4d3a-aca2-e3f21221b06d"
   },
   "outputs": [],
   "source": [
    "##---------Type the code below this line------------------##\n",
    "from sklearn.feature_selection import SelectKBest\n",
    "from sklearn.feature_selection import chi2\n",
    "chi2_selector = SelectKBest(chi2, k=2)\n",
    "X_kbest = chi2_selector.fit_transform(X, Y)\n",
    "print(X_kbest)\n",
    "print('Original number of features:', X.shape)\n",
    "print('Reduced number of features:', X_kbest.shape)"
   ]
  },
  {
   "cell_type": "markdown",
   "id": "38031f24",
   "metadata": {
    "id": "38031f24"
   },
   "source": [
    "## 5.2 Report observations\n",
    "\n",
    "Write your observations from the results of each method. Clearly justify your choice of the method.\n",
    "\n",
    "Score 1 mark"
   ]
  },
  {
   "cell_type": "code",
   "execution_count": 48,
   "id": "85c7a3a8",
   "metadata": {
    "id": "85c7a3a8"
   },
   "outputs": [
    {
     "name": "stdout",
     "output_type": "stream",
     "text": [
      "Shape of training set:  (198608, 30)\n",
      "Shape of testing set:  (85118, 30)\n"
     ]
    }
   ],
   "source": [
    "##---------Type the code below this line------------------##\n",
    "from sklearn.model_selection import train_test_split\n",
    "X_train, X_test, Y_train, Y_test =  train_test_split(X, Y, test_size= 0.3, random_state= 42)\n",
    "\n",
    "print(\"Shape of training set: \", X_train.shape)\n",
    "print(\"Shape of testing set: \", X_test.shape)"
   ]
  },
  {
   "cell_type": "markdown",
   "id": "06f1173c",
   "metadata": {
    "id": "06f1173c"
   },
   "source": [
    "# 6. Implement Machine Learning Techniques\n",
    "\n",
    "Use any 2 ML algorithms\n",
    "1. Classification -- Decision Tree classifier \n",
    "\n",
    "2. Clustering -- kmeans\n",
    "\n",
    "3. Association Analysis\n",
    "\n",
    "4. Anomaly detection\n",
    "\n",
    "5. Textual data -- Naive Bayes classifier (not taught in this course)\n",
    "\n",
    "A clear justification have to be given for why a certain algorithm was chosen to address your problem.\n",
    "\n",
    "Score: 4 Marks (2 marks each for each algorithm)"
   ]
  },
  {
   "cell_type": "markdown",
   "id": "040afed8",
   "metadata": {
    "id": "040afed8"
   },
   "source": [
    "## 6.1 ML technique 1 + Justification"
   ]
  },
  {
   "cell_type": "code",
   "execution_count": 50,
   "id": "3dd5cff6",
   "metadata": {},
   "outputs": [],
   "source": [
    "\n",
    "from sklearn.metrics import confusion_matrix, classification_report"
   ]
  },
  {
   "cell_type": "code",
   "execution_count": 49,
   "id": "2cedbf7e",
   "metadata": {},
   "outputs": [
    {
     "data": {
      "text/plain": [
       "DecisionTreeClassifier()"
      ]
     },
     "execution_count": 49,
     "metadata": {},
     "output_type": "execute_result"
    }
   ],
   "source": [
    "from sklearn.tree import DecisionTreeClassifier\n",
    "##---------Type the code below this line------------------##\n",
    "##---------Type the code below this line------------------##\n",
    "dt = DecisionTreeClassifier()\n",
    "dt.fit(X_train, Y_train)\n"
   ]
  },
  {
   "cell_type": "code",
   "execution_count": 52,
   "id": "36c43630",
   "metadata": {},
   "outputs": [
    {
     "data": {
      "text/plain": [
       "array([0, 0, 0, ..., 0, 0, 0], dtype=int64)"
      ]
     },
     "execution_count": 52,
     "metadata": {},
     "output_type": "execute_result"
    }
   ],
   "source": [
    "decision_trees_predictions=dt.predict(X_test)\n",
    "decision_trees_predictions"
   ]
  },
  {
   "cell_type": "code",
   "execution_count": null,
   "id": "7042235d",
   "metadata": {
    "id": "7042235d"
   },
   "outputs": [],
   "source": [
    "##---------Type the code below this line------------------##\n"
   ]
  },
  {
   "cell_type": "markdown",
   "id": "f610ca8c",
   "metadata": {
    "id": "f610ca8c"
   },
   "source": [
    "## 6.2 ML technique 2 + Justification"
   ]
  },
  {
   "cell_type": "code",
   "execution_count": 54,
   "id": "9b75e079",
   "metadata": {
    "id": "9b75e079"
   },
   "outputs": [
    {
     "data": {
      "text/plain": [
       "KMeans(n_clusters=2)"
      ]
     },
     "execution_count": 54,
     "metadata": {},
     "output_type": "execute_result"
    }
   ],
   "source": [
    "from sklearn.cluster import KMeans\n",
    "from sklearn.metrics import recall_score\n",
    "##---------Type the code below this line------------------##\n",
    "kmeans = KMeans(n_clusters=2)\n",
    "kmeans.fit(X_train,Y_train)"
   ]
  },
  {
   "cell_type": "code",
   "execution_count": 55,
   "id": "b421fde3",
   "metadata": {},
   "outputs": [],
   "source": [
    "kmeans_predictions = kmeans.fit_predict(X_test)"
   ]
  },
  {
   "cell_type": "code",
   "execution_count": 56,
   "id": "8897cfe9",
   "metadata": {},
   "outputs": [],
   "source": [
    "\n",
    "report_dt = classification_report(Y_test,decision_trees_predictions , output_dict=True)\n",
    "report_kmeans = classification_report(Y_test,kmeans_predictions, output_dict=True)"
   ]
  },
  {
   "cell_type": "code",
   "execution_count": 57,
   "id": "af772aba",
   "metadata": {},
   "outputs": [
    {
     "data": {
      "text/html": [
       "<div>\n",
       "<style scoped>\n",
       "    .dataframe tbody tr th:only-of-type {\n",
       "        vertical-align: middle;\n",
       "    }\n",
       "\n",
       "    .dataframe tbody tr th {\n",
       "        vertical-align: top;\n",
       "    }\n",
       "\n",
       "    .dataframe thead th {\n",
       "        text-align: right;\n",
       "    }\n",
       "</style>\n",
       "<table border=\"1\" class=\"dataframe\">\n",
       "  <thead>\n",
       "    <tr style=\"text-align: right;\">\n",
       "      <th></th>\n",
       "      <th>Model Name</th>\n",
       "      <th>Accuracy</th>\n",
       "      <th>Precision</th>\n",
       "      <th>Recall</th>\n",
       "      <th>F1-Score</th>\n",
       "    </tr>\n",
       "  </thead>\n",
       "  <tbody>\n",
       "    <tr>\n",
       "      <th>0</th>\n",
       "      <td>Decision Trees</td>\n",
       "      <td>1.00</td>\n",
       "      <td>1.0</td>\n",
       "      <td>1.00</td>\n",
       "      <td>1.00</td>\n",
       "    </tr>\n",
       "    <tr>\n",
       "      <th>1</th>\n",
       "      <td>K-Means</td>\n",
       "      <td>0.46</td>\n",
       "      <td>1.0</td>\n",
       "      <td>0.46</td>\n",
       "      <td>0.63</td>\n",
       "    </tr>\n",
       "  </tbody>\n",
       "</table>\n",
       "</div>"
      ],
      "text/plain": [
       "       Model Name  Accuracy  Precision  Recall  F1-Score\n",
       "0  Decision Trees      1.00        1.0    1.00      1.00\n",
       "1         K-Means      0.46        1.0    0.46      0.63"
      ]
     },
     "execution_count": 57,
     "metadata": {},
     "output_type": "execute_result"
    }
   ],
   "source": [
    "model = {'Model Name':['Decision Trees', 'K-Means'],\n",
    "        'Accuracy':[report_dt['accuracy'],  report_kmeans['accuracy']],\n",
    "        'Precision':[report_dt['weighted avg']['precision'],report_kmeans['weighted avg']['precision']],\n",
    "        'Recall':[report_dt['weighted avg']['recall'],report_kmeans['weighted avg']['recall']],\n",
    "        'F1-Score':[report_dt['weighted avg']['f1-score'],report_kmeans['weighted avg']['f1-score']]}\n",
    "\n",
    "model = pd.DataFrame(model)\n",
    "\n",
    "model.round(2).sort_values(by=['Accuracy','Precision','Recall','F1-Score'],ascending=False)"
   ]
  },
  {
   "cell_type": "code",
   "execution_count": 58,
   "id": "e51a1915",
   "metadata": {},
   "outputs": [
    {
     "name": "stdout",
     "output_type": "stream",
     "text": [
      "              precision    recall  f1-score   support\n",
      "\n",
      "           0       1.00      1.00      1.00    283253\n",
      "           1       0.91      0.94      0.92       473\n",
      "\n",
      "    accuracy                           1.00    283726\n",
      "   macro avg       0.95      0.97      0.96    283726\n",
      "weighted avg       1.00      1.00      1.00    283726\n",
      "\n"
     ]
    }
   ],
   "source": [
    "X = data.drop('Class',axis=1)\n",
    "y = data['Class']\n",
    "decision_trees_predictions = dt.predict(X)\n",
    "\n",
    "cards_cr = classification_report(y,decision_trees_predictions, output_dict=True)\n",
    "\n",
    "print(classification_report(y,decision_trees_predictions))"
   ]
  },
  {
   "cell_type": "markdown",
   "id": "eb57940c",
   "metadata": {
    "id": "eb57940c"
   },
   "source": [
    "## 7. Conclusion \n",
    "\n",
    "Compare the performance of the ML techniques used.\n",
    "\n",
    "Derive values for preformance study metrics like accuracy, precision, recall, F1 Score, AUC-ROC etc to compare the ML algos and plot them. A proper comparision based on different metrics should be done and not just accuracy alone, only then the comparision becomes authentic. You may use Confusion matrix, classification report, Word cloud etc as per the requirement of your application/problem.\n",
    "\n",
    "Score 1 Mark"
   ]
  },
  {
   "cell_type": "code",
   "execution_count": 59,
   "id": "9bf06eb1",
   "metadata": {
    "id": "9bf06eb1"
   },
   "outputs": [
    {
     "data": {
      "text/html": [
       "<div>\n",
       "<style scoped>\n",
       "    .dataframe tbody tr th:only-of-type {\n",
       "        vertical-align: middle;\n",
       "    }\n",
       "\n",
       "    .dataframe tbody tr th {\n",
       "        vertical-align: top;\n",
       "    }\n",
       "\n",
       "    .dataframe thead th {\n",
       "        text-align: right;\n",
       "    }\n",
       "</style>\n",
       "<table border=\"1\" class=\"dataframe\">\n",
       "  <thead>\n",
       "    <tr style=\"text-align: right;\">\n",
       "      <th></th>\n",
       "      <th>Model Name</th>\n",
       "      <th>Accuracy</th>\n",
       "      <th>Precision</th>\n",
       "      <th>Recall</th>\n",
       "      <th>F1-Score</th>\n",
       "    </tr>\n",
       "  </thead>\n",
       "  <tbody>\n",
       "    <tr>\n",
       "      <th>0</th>\n",
       "      <td>Decision Trees</td>\n",
       "      <td>1.00</td>\n",
       "      <td>1.0</td>\n",
       "      <td>1.00</td>\n",
       "      <td>1.00</td>\n",
       "    </tr>\n",
       "    <tr>\n",
       "      <th>1</th>\n",
       "      <td>K-Means</td>\n",
       "      <td>0.46</td>\n",
       "      <td>1.0</td>\n",
       "      <td>0.46</td>\n",
       "      <td>0.63</td>\n",
       "    </tr>\n",
       "  </tbody>\n",
       "</table>\n",
       "</div>"
      ],
      "text/plain": [
       "       Model Name  Accuracy  Precision  Recall  F1-Score\n",
       "0  Decision Trees      1.00        1.0    1.00      1.00\n",
       "1         K-Means      0.46        1.0    0.46      0.63"
      ]
     },
     "execution_count": 59,
     "metadata": {},
     "output_type": "execute_result"
    }
   ],
   "source": [
    "##---------Type the code below this line------------------##\n",
    "model = {'Model Name':['Decision Trees', 'K-Means'],\n",
    "        'Accuracy':[report_dt['accuracy'],  report_kmeans['accuracy']],\n",
    "        'Precision':[report_dt['weighted avg']['precision'],report_kmeans['weighted avg']['precision']],\n",
    "        'Recall':[report_dt['weighted avg']['recall'],report_kmeans['weighted avg']['recall']],\n",
    "        'F1-Score':[report_dt['weighted avg']['f1-score'],report_kmeans['weighted avg']['f1-score']]}\n",
    "\n",
    "model = pd.DataFrame(model)\n",
    "\n",
    "model.round(2).sort_values(by=['Accuracy','Precision','Recall','F1-Score'],ascending=False)"
   ]
  },
  {
   "cell_type": "markdown",
   "id": "79ed0137",
   "metadata": {
    "id": "79ed0137"
   },
   "source": [
    "## 8. Solution\n",
    "\n",
    "What is the solution that is proposed to solve the business problem discussed in Section 1. Also share your learnings while working through solving the problem in terms of challenges, observations, decisions made etc.\n",
    "\n",
    "Score 2 Marks"
   ]
  },
  {
   "cell_type": "markdown",
   "id": "324448eb",
   "metadata": {
    "id": "324448eb"
   },
   "source": [
    "--------------Type the answers below this line--------------"
   ]
  },
  {
   "cell_type": "raw",
   "id": "68ab61d5",
   "metadata": {
    "id": "68ab61d5"
   },
   "source": [
    "##---------Type the answer below this line------------------##\n",
    "the solution that is proposed to solve the business problem is analyzing the data correctly and performing the data preprocessing teqniques and for the data visualization we have used the different inbuilt functions to analyze the correct output and at last testing the model with the different machine learning algorithms and noting the outcomes "
   ]
  },
  {
   "cell_type": "markdown",
   "id": "RcDDQlfbZQ7E",
   "metadata": {
    "id": "RcDDQlfbZQ7E"
   },
   "source": [
    "##NOTE\n",
    "All Late Submissions will incur a penalty of -2 marks. Do ensure on time submission to avoid penalty.\n",
    "\n",
    "Good Luck!!!"
   ]
  }
 ],
 "metadata": {
  "colab": {
   "provenance": []
  },
  "kernelspec": {
   "display_name": "Python 3 (ipykernel)",
   "language": "python",
   "name": "python3"
  },
  "language_info": {
   "codemirror_mode": {
    "name": "ipython",
    "version": 3
   },
   "file_extension": ".py",
   "mimetype": "text/x-python",
   "name": "python",
   "nbconvert_exporter": "python",
   "pygments_lexer": "ipython3",
   "version": "3.9.12"
  }
 },
 "nbformat": 4,
 "nbformat_minor": 5
}
